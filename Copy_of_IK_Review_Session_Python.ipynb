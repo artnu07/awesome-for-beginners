{
  "nbformat": 4,
  "nbformat_minor": 0,
  "metadata": {
    "colab": {
      "provenance": [],
      "include_colab_link": true
    },
    "kernelspec": {
      "name": "python3",
      "display_name": "Python 3"
    },
    "language_info": {
      "name": "python"
    }
  },
  "cells": [
    {
      "cell_type": "markdown",
      "metadata": {
        "id": "view-in-github",
        "colab_type": "text"
      },
      "source": [
        "<a href=\"https://colab.research.google.com/github/artnu07/awesome-for-beginners/blob/main/Copy_of_IK_Review_Session_Python.ipynb\" target=\"_parent\"><img src=\"https://colab.research.google.com/assets/colab-badge.svg\" alt=\"Open In Colab\"/></a>"
      ]
    },
    {
      "cell_type": "code",
      "execution_count": null,
      "metadata": {
        "colab": {
          "base_uri": "https://localhost:8080/"
        },
        "id": "DL3q2kQl1b6p",
        "outputId": "c1b3ac6e-2cbd-4417-90a5-58d946dd3e96"
      },
      "outputs": [
        {
          "output_type": "stream",
          "name": "stdout",
          "text": [
            "[1, 3]\n"
          ]
        }
      ],
      "source": [
        "def two_sum(arr, target): # --> i, j: arr[i]+arr[j] == target\n",
        "  '''\n",
        "  O(n^2) --> loop\n",
        "  O(n) with auxiliary O(n) memory\n",
        "  O(n) with O(1) memory\n",
        "  '''\n",
        "  n = len(arr)\n",
        "  '''\n",
        "  for i in range(n):\n",
        "    for j in range(i+1, n):\n",
        "      if arr[i]+arr[j] == target:\n",
        "        return [i, j]\n",
        "  '''\n",
        "  '''\n",
        "  dict_val = {}\n",
        "  for i in range(n):\n",
        "    dict_val[arr[i]] = i\n",
        "  for i in range(n):\n",
        "    complement = target-arr[i]\n",
        "    if complement in dict_val and dict_val[complement] != i:\n",
        "      return [i, dict_val[complement]]\n",
        "  '''\n",
        "  start = 0\n",
        "  end = n-1\n",
        "  while start < end:\n",
        "    if arr[start]+arr[end] == target:\n",
        "      return [start, end]\n",
        "    elif arr[start]+arr[end] > target:\n",
        "      end -= 1\n",
        "    else:\n",
        "      start += 1\n",
        "  return [-1, -1]\n",
        "\n",
        "print(two_sum([1, 2, 3, 5, 10], 7))\n",
        "\n"
      ]
    },
    {
      "cell_type": "code",
      "source": [
        "from google.colab import drive\n",
        "drive.mount('/content/drive')"
      ],
      "metadata": {
        "colab": {
          "base_uri": "https://localhost:8080/"
        },
        "id": "tQXbmqV7eBl3",
        "outputId": "faac3412-9511-4166-b875-7ddb41768d92"
      },
      "execution_count": 1,
      "outputs": [
        {
          "output_type": "stream",
          "name": "stdout",
          "text": [
            "Mounted at /content/drive\n"
          ]
        }
      ]
    },
    {
      "cell_type": "code",
      "source": [
        "def majority_element(arr):\n",
        "  '''\n",
        "  O(n^2) loop\n",
        "  '''\n",
        "  n = len(arr)\n",
        "  max_count = 0\n",
        "  max_elem = None\n",
        "  for i, elem in enumerate(arr):\n",
        "    count = arr.count(elem) # O(n)\n",
        "    if count > max_count:\n",
        "      max_count = count\n",
        "      max_elem = elem\n",
        "  return max_elem\n",
        "print(majority_element([3, 3, 3, 2, 2, 2, 3, 2, 2]))"
      ],
      "metadata": {
        "colab": {
          "base_uri": "https://localhost:8080/"
        },
        "id": "e4m5yWvw9t6b",
        "outputId": "fa5eb02d-8791-48c5-9c60-5cea577d088f"
      },
      "execution_count": null,
      "outputs": [
        {
          "output_type": "stream",
          "name": "stdout",
          "text": [
            "2\n"
          ]
        }
      ]
    },
    {
      "cell_type": "code",
      "source": [
        "def majority_element(arr):\n",
        "  '''\n",
        "  Dictionary or Hashmap: O(n) auxiliary space\n",
        "  '''\n",
        "  n = len(arr)\n",
        "  max_count = 0\n",
        "  max_elem = None\n",
        "  dict_elem = {}\n",
        "  for i, elem in enumerate(arr):\n",
        "    if elem in dict_elem:\n",
        "      count = dict_elem[elem]+1\n",
        "      dict_elem[elem] = count\n",
        "    else:\n",
        "      dict_elem[elem] = 1\n",
        "    if dict_elem[elem] > max_count:\n",
        "      max_count = dict_elem[elem]\n",
        "      max_elem = elem\n",
        "  return max_elem\n",
        "print(majority_element([3, 3, 3, 2, 2, 2, 3]))"
      ],
      "metadata": {
        "colab": {
          "base_uri": "https://localhost:8080/"
        },
        "id": "r7gm99Nz-__T",
        "outputId": "175eb45d-f9cc-4140-df94-a80eaedb68e8"
      },
      "execution_count": null,
      "outputs": [
        {
          "output_type": "stream",
          "name": "stdout",
          "text": [
            "3\n"
          ]
        }
      ]
    },
    {
      "cell_type": "code",
      "source": [
        "'''\n",
        "Boyer-Moore Voting Algorithm\n",
        "'''\n",
        "# [3, 3, 3, 2, 2, 2, 3]\n"
      ],
      "metadata": {
        "id": "tUM07V6eBUZF"
      },
      "execution_count": null,
      "outputs": []
    },
    {
      "cell_type": "code",
      "source": [
        "def check_duplicate(arr):\n",
        "  '''\n",
        "  O(n^2)\n",
        "  '''\n",
        "  n = len(arr)\n",
        "  for i in range(n):\n",
        "    for j in range(i+1, n):\n",
        "      if arr[i] == arr[j]:\n",
        "        return True\n",
        "  return False\n",
        "print(str(check_duplicate([5, 10, 15, 20])))"
      ],
      "metadata": {
        "colab": {
          "base_uri": "https://localhost:8080/"
        },
        "id": "9DXbY74VCg2t",
        "outputId": "6332ee26-48aa-4b7b-ff11-3f5ec6c7d71d"
      },
      "execution_count": null,
      "outputs": [
        {
          "output_type": "stream",
          "name": "stdout",
          "text": [
            "False\n"
          ]
        }
      ]
    },
    {
      "cell_type": "code",
      "source": [
        "def check_duplicate(arr):\n",
        "  '''\n",
        "  O(nlogn)\n",
        "  '''\n",
        "  prev = None\n",
        "  for i, cur in enumerate(sorted(arr)):\n",
        "    if prev == cur:\n",
        "      return True\n",
        "    else:\n",
        "      prev = cur\n",
        "  return False\n",
        "print(str(check_duplicate([10, 30, 10, 20])))"
      ],
      "metadata": {
        "colab": {
          "base_uri": "https://localhost:8080/"
        },
        "id": "xF0nvArxDZv0",
        "outputId": "84e67649-cf74-4ac7-c070-15964dab923f"
      },
      "execution_count": null,
      "outputs": [
        {
          "output_type": "stream",
          "name": "stdout",
          "text": [
            "True\n"
          ]
        }
      ]
    },
    {
      "cell_type": "code",
      "source": [
        "def check_duplicate(arr):\n",
        "  '''\n",
        "  O(n) with O(n) memory\n",
        "  '''\n",
        "  dict_elem = {}\n",
        "  for elem in arr:\n",
        "    if elem in dict_elem:\n",
        "      return True\n",
        "    else:\n",
        "      dict_elem[elem] = 1\n",
        "  return False\n",
        "print(str(check_duplicate([10, 30, 10, 20])))"
      ],
      "metadata": {
        "colab": {
          "base_uri": "https://localhost:8080/"
        },
        "id": "oTetXRX4EeH5",
        "outputId": "d070aee6-92ad-4378-96cf-68843446e48f"
      },
      "execution_count": null,
      "outputs": [
        {
          "output_type": "stream",
          "name": "stdout",
          "text": [
            "True\n"
          ]
        }
      ]
    },
    {
      "cell_type": "code",
      "source": [
        "'''\n",
        "O(n) with O(1) memory\n",
        "modulus and updating array elements to keep track of frequency\n",
        "'''"
      ],
      "metadata": {
        "id": "Gd7_Gn5_G9gb"
      },
      "execution_count": null,
      "outputs": []
    },
    {
      "cell_type": "code",
      "source": [],
      "metadata": {
        "id": "rhITDkMEIm58"
      },
      "execution_count": null,
      "outputs": []
    },
    {
      "cell_type": "code",
      "source": [
        "def array_intersection(arr1, arr2):\n",
        "  '''\n",
        "  O(n^2)\n",
        "  '''\n",
        "  result = []\n",
        "  for val in arr1:\n",
        "    if val in arr2:\n",
        "      if len(result) > 0 and val != result[-1]:\n",
        "        result.append(val)\n",
        "      if len(result) == 0:\n",
        "        result.append(val)\n",
        "  return result\n",
        "print(array_intersection([1, 2, 2, 6, 7],[2, 2, 7, 7]))"
      ],
      "metadata": {
        "colab": {
          "base_uri": "https://localhost:8080/"
        },
        "id": "yQECRdEnIH9_",
        "outputId": "ceedf5e8-c26b-4339-ac47-f3c901ede63d"
      },
      "execution_count": null,
      "outputs": [
        {
          "output_type": "stream",
          "name": "stdout",
          "text": [
            "[2, 7]\n"
          ]
        }
      ]
    },
    {
      "cell_type": "code",
      "source": [
        "def array_intersection(arr1, arr2):\n",
        "  set1 = set(arr1)\n",
        "  print(set1)\n",
        "  set2 = set(arr2)\n",
        "  print(set2)\n",
        "  result = list(set1.intersection(arr2))\n",
        "  return result\n",
        "print(array_intersection([1, 2, 2, 6, 7],[2, 2, 7, 7]))"
      ],
      "metadata": {
        "colab": {
          "base_uri": "https://localhost:8080/"
        },
        "id": "gr3vEaAjJNjZ",
        "outputId": "5ef2bb6c-215a-4719-bc56-787f9a89d362"
      },
      "execution_count": null,
      "outputs": [
        {
          "output_type": "stream",
          "name": "stdout",
          "text": [
            "{1, 2, 6, 7}\n",
            "{2, 7}\n",
            "[2, 7]\n"
          ]
        }
      ]
    },
    {
      "cell_type": "code",
      "source": [
        "def array_intersection(arr1, arr2):\n",
        "\n",
        "  p1 = p2 = k = 0\n",
        "\n",
        "  n1 = len(arr1)\n",
        "  n2 = len(arr2)\n",
        "\n",
        "  result = []\n",
        "\n",
        "  while p1 < n1 and p2 < n2:\n",
        "\n",
        "    if arr1[p1] == arr2[p2]: # found common item\n",
        "      if k == 0 or arr1[p1] != result[k-1]:\n",
        "        result.append(arr1[p1])\n",
        "        p1 += 1\n",
        "        p2 += 1\n",
        "        k += 1\n",
        "      else:\n",
        "        p1 += 1\n",
        "        p2 += 1\n",
        "    elif arr1[p1] < arr2[p2]:\n",
        "      p1 +=1\n",
        "    else:\n",
        "      p2 += 1\n",
        "\n",
        "  return result\n",
        "\n",
        "print(array_intersection([1, 2, 2, 6, 7],[2, 2, 7, 7]))"
      ],
      "metadata": {
        "colab": {
          "base_uri": "https://localhost:8080/"
        },
        "id": "o65M0uzVJ2Ei",
        "outputId": "4ab83d45-c0ea-4a3e-d102-ba3ebd01c47b"
      },
      "execution_count": null,
      "outputs": [
        {
          "output_type": "stream",
          "name": "stdout",
          "text": [
            "[2, 7]\n"
          ]
        }
      ]
    },
    {
      "cell_type": "code",
      "source": [
        "def single_number(arr):\n",
        "  '''\n",
        "  O(n^2): use list count() function\n",
        "  O(n) solution with O(n) memory using dictionary\n",
        "  '''\n",
        "  dict_val = {}\n",
        "\n",
        "  for elem in arr:\n",
        "    if elem in dict_val:\n",
        "      dict_val[elem] += 1\n",
        "    else:\n",
        "      dict_val[elem] = 1\n",
        "\n",
        "  for elem in dict_val:\n",
        "    if dict_val[elem] == 1:\n",
        "      return elem\n",
        "\n",
        "print(single_number([2, 1, 2, 5, 1]))\n"
      ],
      "metadata": {
        "colab": {
          "base_uri": "https://localhost:8080/"
        },
        "id": "pCC16Yj5Ptd-",
        "outputId": "41444617-9974-4eac-854e-ae287e667f4b"
      },
      "execution_count": null,
      "outputs": [
        {
          "output_type": "stream",
          "name": "stdout",
          "text": [
            "5\n"
          ]
        }
      ]
    },
    {
      "cell_type": "code",
      "source": [
        "def single_number(arr):\n",
        "\n",
        "  cum_xor = 0\n",
        "\n",
        "  '''\n",
        "  111001\n",
        "  010001\n",
        "  ______\n",
        "  101000\n",
        "  '''\n",
        "\n",
        "  for elem in arr:\n",
        "\n",
        "    cum_xor ^= elem\n",
        "\n",
        "  return cum_xor\n",
        "\n",
        "print(single_number([2, 1, 2, 5, 1]))"
      ],
      "metadata": {
        "colab": {
          "base_uri": "https://localhost:8080/"
        },
        "id": "DNC_UZKhQ2GI",
        "outputId": "23e8cca1-e02d-40d2-933a-54d68f7a9a75"
      },
      "execution_count": null,
      "outputs": [
        {
          "output_type": "stream",
          "name": "stdout",
          "text": [
            "5\n"
          ]
        }
      ]
    },
    {
      "cell_type": "code",
      "source": [
        "def sorted_squares(arr):\n",
        "  n = arr(len)\n",
        "\n",
        "  start = 0\n",
        "  end = n-1\n",
        "  k = n-1\n",
        "\n",
        "  result = [0]*n\n",
        "\n",
        "  while start <= end:\n",
        "\n",
        "    start_square = arr[start]**2\n",
        "    end_square = arr[end]**2\n",
        "\n",
        "    if start_square > end_square:\n",
        "      result[k] = start_square\n",
        "      start += 1\n",
        "    else:\n",
        "      result[k] = end_square\n",
        "      end -= 1\n",
        "\n",
        "    k -= 1\n",
        "  return result\n",
        "print(sorted_squares([1, 2, 3, 4]))"
      ],
      "metadata": {
        "colab": {
          "base_uri": "https://localhost:8080/"
        },
        "id": "VsC5GSidT5Sa",
        "outputId": "33a1553e-4090-4631-94c1-a3b40195502f"
      },
      "execution_count": null,
      "outputs": [
        {
          "output_type": "stream",
          "name": "stdout",
          "text": [
            "[1, 4, 9, 16]\n"
          ]
        }
      ]
    },
    {
      "cell_type": "code",
      "source": [
        "def max_subarray(arr):\n",
        "\n",
        "  max_so_far = float('-inf')\n",
        "  max_ends_here = 0\n",
        "\n",
        "  for elem in arr:\n",
        "    max_ends_here = max(max_ends_here+elem, elem)\n",
        "    max_so_far = max(max_so_far, max_ends_here)\n",
        "\n",
        "  return max_so_far\n",
        "print(max_subarray([2, -6, 3, 4, -5]))"
      ],
      "metadata": {
        "colab": {
          "base_uri": "https://localhost:8080/"
        },
        "id": "5MM7r9ufWksN",
        "outputId": "8fcdd322-627b-4725-949d-f138974dd87b"
      },
      "execution_count": null,
      "outputs": [
        {
          "output_type": "stream",
          "name": "stdout",
          "text": [
            "7\n"
          ]
        }
      ]
    },
    {
      "cell_type": "code",
      "source": [
        "def find_winner(arr):\n",
        "  dict_votes = {}\n",
        "  max_votes = 0\n",
        "  max_candidate = None\n",
        "  for elem in arr:\n",
        "    if elem in dict_votes:\n",
        "      dict_votes[elem] += 1\n",
        "    else:\n",
        "      dict_votes[elem] = 1\n",
        "    if dict_votes[elem] > max_votes:\n",
        "      max_votes = dict_votes[elem]\n",
        "      max_candidate = elem\n",
        "  return max_candidate\n",
        "print(find_winner([\"sam\", \"john\", \"jamie\", \"sam\"]))"
      ],
      "metadata": {
        "colab": {
          "base_uri": "https://localhost:8080/"
        },
        "id": "sV54TeYpYuPU",
        "outputId": "0738c19b-0074-4acf-a241-4b3a6f00c389"
      },
      "execution_count": null,
      "outputs": [
        {
          "output_type": "stream",
          "name": "stdout",
          "text": [
            "sam\n"
          ]
        }
      ]
    }
  ]
}